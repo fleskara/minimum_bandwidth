{
 "cells": [
  {
   "cell_type": "code",
   "execution_count": 1,
   "id": "69561b69-b23f-48cc-baf7-72d8074dd4c3",
   "metadata": {},
   "outputs": [],
   "source": [
    "import networkx as nx"
   ]
  },
  {
   "cell_type": "code",
   "execution_count": 2,
   "id": "ca3fb511-591e-4826-84a9-fc6be357ab9c",
   "metadata": {},
   "outputs": [
    {
     "name": "stderr",
     "output_type": "stream",
     "text": [
      "/Library/Frameworks/Python.framework/Versions/3.11/lib/python3.11/site-packages/docplex/cp/__init__.py:62: RuntimeWarning: docplex.cp is supported by Python versions 2.7.9+, 3.4.x, to 3.10.x, not '3.11.5.final.0'. Use it at your own risk.\n",
      "  warnings.warn(msg, RuntimeWarning)\n"
     ]
    }
   ],
   "source": [
    "from docplex.cp.model import CpoModel"
   ]
  },
  {
   "cell_type": "code",
   "execution_count": 3,
   "id": "09901268-a864-4cfb-8b7e-53de7ef7e74e",
   "metadata": {},
   "outputs": [],
   "source": [
    "from docplex.cp.parameters import CpoParameters"
   ]
  },
  {
   "cell_type": "code",
   "execution_count": 4,
   "id": "1d6235cd-bcfb-473b-9aaf-81d30160906e",
   "metadata": {},
   "outputs": [],
   "source": [
    "import numpy as np"
   ]
  },
  {
   "cell_type": "code",
   "execution_count": 5,
   "id": "63d4b882-da83-4858-9ca0-865b8910d9d9",
   "metadata": {},
   "outputs": [],
   "source": [
    "import itertools"
   ]
  },
  {
   "cell_type": "code",
   "execution_count": 6,
   "id": "c38dee8c-3378-4c7e-a08c-587d09c7412c",
   "metadata": {},
   "outputs": [],
   "source": [
    "import sys"
   ]
  },
  {
   "cell_type": "code",
   "execution_count": 7,
   "id": "8281c13a-d27b-4893-b459-c3a2d5ed77cc",
   "metadata": {},
   "outputs": [],
   "source": [
    "import copy"
   ]
  },
  {
   "cell_type": "code",
   "execution_count": 8,
   "id": "01a6b84e-52fc-4dde-a213-2790568db84d",
   "metadata": {},
   "outputs": [],
   "source": [
    "import random"
   ]
  },
  {
   "cell_type": "code",
   "execution_count": 9,
   "id": "2606063c-fd56-43f6-ae77-918cb8554eb3",
   "metadata": {},
   "outputs": [],
   "source": [
    "import time"
   ]
  },
  {
   "cell_type": "code",
   "execution_count": 10,
   "id": "ce172418-d72e-41db-8620-982d370b5078",
   "metadata": {},
   "outputs": [],
   "source": [
    "#Brute Force"
   ]
  },
  {
   "cell_type": "code",
   "execution_count": 11,
   "id": "b6d27a36-44b3-4a2a-a2c1-0aaa5f7fe658",
   "metadata": {},
   "outputs": [],
   "source": [
    "def calculate_node_bandwidth(node, graph, labelling):\n",
    "    node_bandwidth =  float('-inf')\n",
    "    for neighbour_node in list(graph.adj[node]):\n",
    "        node_bandwidth = max(node_bandwidth, abs(labelling[node] - labelling[neighbour_node]))\n",
    "    return node_bandwidth"
   ]
  },
  {
   "cell_type": "code",
   "execution_count": 12,
   "id": "2ac762ff-8b17-4672-afc0-7c99d10e2491",
   "metadata": {},
   "outputs": [],
   "source": [
    "def calculate_graph_bandwidth(graph, labelling):\n",
    "    number_of_nodes = graph.number_of_nodes()\n",
    "    graph_bandwidth =  float('-inf')\n",
    "    for current_node in range(number_of_nodes):\n",
    "        current_node_bandwidth = calculate_node_bandwidth(current_node, graph, labelling)\n",
    "        graph_bandwidth = max(graph_bandwidth, current_node_bandwidth)\n",
    "    return graph_bandwidth"
   ]
  },
  {
   "cell_type": "code",
   "execution_count": 13,
   "id": "8e9877fb-c40d-45fc-9805-81b200103e14",
   "metadata": {},
   "outputs": [],
   "source": [
    "brut_force_graph = nx.read_gml('./graphs/brut_force_graph.gml')\n",
    "number_of_nodes_bf = brut_force_graph.number_of_nodes()"
   ]
  },
  {
   "cell_type": "code",
   "execution_count": 14,
   "id": "dde984af-4582-4581-9e78-e87f2bcefbd4",
   "metadata": {},
   "outputs": [
    {
     "data": {
      "text/plain": [
       "[1, 2, 3, 4, 5]"
      ]
     },
     "execution_count": 14,
     "metadata": {},
     "output_type": "execute_result"
    }
   ],
   "source": [
    "initial_permutation_bf = [i for i in range(1, number_of_nodes_bf+1)]\n",
    "initial_permutation_bf"
   ]
  },
  {
   "cell_type": "code",
   "execution_count": 15,
   "id": "438fadd2-a39c-49ec-ae02-20f1f49987d3",
   "metadata": {},
   "outputs": [],
   "source": [
    "def brute_force(graph, initial_labeling):\n",
    "    minimal_bandwidth = float('inf')\n",
    "    for permutation in itertools.permutations(initial_labeling):\n",
    "        new_bandwidth = calculate_graph_bandwidth(graph, permutation)\n",
    "        if new_bandwidth < minimal_bandwidth:\n",
    "            minimal_bandwidth = new_bandwidth\n",
    "            graph.graph['labelling'] = permutation\n",
    "            graph.graph['bandwidth'] = minimal_bandwidth\n",
    "    return (minimal_bandwidth)"
   ]
  },
  {
   "cell_type": "code",
   "execution_count": 16,
   "id": "5eb84cc6-b4ad-407b-8357-a9590e0594e4",
   "metadata": {},
   "outputs": [
    {
     "name": "stdout",
     "output_type": "stream",
     "text": [
      "2\n"
     ]
    }
   ],
   "source": [
    "result = brute_force(brut_force_graph, initial_permutation_bf)\n",
    "print(result)"
   ]
  },
  {
   "cell_type": "code",
   "execution_count": 17,
   "id": "69f74211-db97-424c-a208-acfe67633fad",
   "metadata": {},
   "outputs": [
    {
     "data": {
      "text/plain": [
       "{'labelling': (1, 2, 3, 4, 5), 'bandwidth': 2}"
      ]
     },
     "execution_count": 17,
     "metadata": {},
     "output_type": "execute_result"
    }
   ],
   "source": [
    "brut_force_graph.graph"
   ]
  },
  {
   "cell_type": "code",
   "execution_count": 18,
   "id": "2f78c271-dfd7-4bf0-a063-7361e69ec571",
   "metadata": {},
   "outputs": [
    {
     "data": {
      "text/plain": [
       "(1, 2, 3, 4, 5)"
      ]
     },
     "execution_count": 18,
     "metadata": {},
     "output_type": "execute_result"
    }
   ],
   "source": [
    "brut_force_graph.graph['labelling']"
   ]
  },
  {
   "cell_type": "code",
   "execution_count": 19,
   "id": "129ae31a-d366-4740-b2a9-329a50403ea6",
   "metadata": {},
   "outputs": [
    {
     "data": {
      "text/plain": [
       "2"
      ]
     },
     "execution_count": 19,
     "metadata": {},
     "output_type": "execute_result"
    }
   ],
   "source": [
    "brut_force_graph.graph['bandwidth']"
   ]
  },
  {
   "cell_type": "code",
   "execution_count": 20,
   "id": "ba77e875-35de-460f-b0c1-22ad642f3b40",
   "metadata": {},
   "outputs": [
    {
     "data": {
      "image/png": "[encoded data removed]",
      "text/plain": [
       "<Figure size 640x480 with 1 Axes>"
      ]
     },
     "metadata": {},
     "output_type": "display_data"
    }
   ],
   "source": [
    "nx.draw(brut_force_graph)"
   ]
  },
  {
   "cell_type": "code",
   "execution_count": 21,
   "id": "243ffee3-eff9-4f10-96c6-bf52774aea18",
   "metadata": {},
   "outputs": [],
   "source": [
    "#Local search"
   ]
  },
  {
   "cell_type": "code",
   "execution_count": 22,
   "id": "39f929a0-7be9-469b-b367-26bc013ca385",
   "metadata": {},
   "outputs": [],
   "source": [
    "def calc_min_and_max_neighbour_lables(node, graph, labelling):\n",
    "    min = float('inf')\n",
    "    max = float('-inf')\n",
    "    for neighbour_node in list(graph.adj[node]):\n",
    "        if labelling[neighbour_node] < min:\n",
    "            min = labelling[neighbour_node]\n",
    "        if labelling[neighbour_node] > max:\n",
    "            max = labelling[neighbour_node]\n",
    "    return min, max"
   ]
  },
  {
   "cell_type": "code",
   "execution_count": 23,
   "id": "ab4e1603-f2f8-4bd4-84df-5e11a608e397",
   "metadata": {},
   "outputs": [],
   "source": [
    "def find_suitable_swap_nodes(c_node, c_node_bandwidth, c_mid_bandwidth, graph, labelling):\n",
    "    number_of_nodes = graph.number_of_nodes()\n",
    "    suitable_nodes = []\n",
    "    for node in range(number_of_nodes):\n",
    "        if node == c_node:\n",
    "            continue\n",
    "        if abs(c_mid_bandwidth - labelling[node]) < abs(c_mid_bandwidth - labelling[c_node]):\n",
    "            suitable_nodes.append((node, abs(c_mid_bandwidth - labelling[node])))\n",
    "    suitable_nodes.sort(key = lambda x: x[1])\n",
    "    return list(map(lambda x: x[0], suitable_nodes))"
   ]
  },
  {
   "cell_type": "code",
   "execution_count": 24,
   "id": "34502bfd-4d96-4a5b-b979-c73cbe0c5f28",
   "metadata": {},
   "outputs": [],
   "source": [
    "def calc_number_of_critical_nodes(graph, labelling, graph_bandwidth):\n",
    "    number_of_nodes = graph.number_of_nodes()\n",
    "    number_of_critical_nodes = 0\n",
    "    for node in range(number_of_nodes):\n",
    "        node_bandwidth = calculate_node_bandwidth(node, graph, labelling)\n",
    "        if node_bandwidth >= graph_bandwidth:\n",
    "            number_of_critical_nodes = number_of_critical_nodes + 1\n",
    "    return number_of_critical_nodes"
   ]
  },
  {
   "cell_type": "code",
   "execution_count": 25,
   "id": "0b1f660c-ff61-4081-8f26-46a5191b52a5",
   "metadata": {},
   "outputs": [],
   "source": [
    "def local_search(graph, labelling):\n",
    "    number_of_nodes = graph.number_of_nodes()\n",
    "    current_labeling = copy.deepcopy(labelling)\n",
    "    can_improve = True\n",
    "    \n",
    "    while can_improve:\n",
    "        graph_bandwidth = calculate_graph_bandwidth(graph, current_labeling)\n",
    "        number_of_critical_nodes = 0\n",
    "        can_improve = False\n",
    "        for node in range(number_of_nodes):\n",
    "            \n",
    "            node_bandwidth = calculate_node_bandwidth(node, graph, current_labeling)\n",
    "            if node_bandwidth == graph_bandwidth:\n",
    "                min_label, max_label = calc_min_and_max_neighbour_lables(node, graph, current_labeling)\n",
    "                middle_value = int((min_label + max_label) / 2)\n",
    "                suitable_nodes = find_suitable_swap_nodes(node, node_bandwidth, middle_value, graph, current_labeling)\n",
    "                new_labeling = copy.deepcopy(current_labeling)\n",
    "                \n",
    "                for suitable_node in suitable_nodes:\n",
    "                    new_labeling[node], new_labeling[suitable_node] = new_labeling[suitable_node], new_labeling[node]\n",
    "                    new_bandwidth = calculate_graph_bandwidth(graph, new_labeling)\n",
    "                    old = calc_number_of_critical_nodes(graph, current_labeling, graph_bandwidth)\n",
    "                    new = calc_number_of_critical_nodes(graph, new_labeling, graph_bandwidth)\n",
    "\n",
    "                    if new_bandwidth > graph_bandwidth:\n",
    "                        new_labeling[node], new_labeling[suitable_node] = new_labeling[suitable_node], new_labeling[node]\n",
    "                        continue\n",
    "                    \n",
    "                    if new < old:\n",
    "                        current_labeling = new_labeling\n",
    "                        can_improve = True\n",
    "                        break\n",
    "                    else:\n",
    "                        new_labeling[node], new_labeling[suitable_node] = new_labeling[suitable_node], new_labeling[node]\n",
    "                    \n",
    "    return current_labeling"
   ]
  },
  {
   "cell_type": "code",
   "execution_count": 26,
   "id": "06582601-dc48-4e06-9446-5fc7d8a05e4c",
   "metadata": {},
   "outputs": [],
   "source": [
    "#CPLEX"
   ]
  },
  {
   "cell_type": "code",
   "execution_count": 27,
   "id": "911d5e88-d2f0-4db5-bfc9-9112ad8d01c8",
   "metadata": {},
   "outputs": [],
   "source": [
    "def solve_minimal_bandwith_problem(graph):\n",
    "    model = CpoModel()\n",
    "    number_of_nodes = graph.number_of_nodes()\n",
    "    \n",
    "    labelling = model.integer_var_list(number_of_nodes, 1, number_of_nodes, \"LABELLING\")\n",
    "    model.add(model.all_diff(labelling))\n",
    "\n",
    "    bandwidth_for_each_node = [model.max([model.abs(labelling[node] - labelling[neighbour]) for neighbour in list(graph.adj[node])]) for node in range(number_of_nodes)]\n",
    "    model.minimize(model.max(bandwidth_for_each_node))\n",
    "    params = CpoParameters()\n",
    "    params.LogVerbosity = \"Quiet\"\n",
    "    # params.LogPeriod = 1\n",
    "    params.PrintModelDetailsInMessages = \"Off\"\n",
    "    \n",
    "    solution = model.solve(params=params)\n",
    "    solution.print_solution()"
   ]
  },
  {
   "cell_type": "code",
   "execution_count": 28,
   "id": "c79c5b07-93e9-4d99-89b6-add1c4627bca",
   "metadata": {},
   "outputs": [
    {
     "name": "stdout",
     "output_type": "stream",
     "text": [
      "-------------------------------------------------------------------------------\n",
      "Model constraints: 1, variables: integer: 5, interval: 0, sequence: 0\n",
      "Solve status: Optimal\n",
      "Search status: SearchCompleted, stop cause: SearchHasNotBeenStopped\n",
      "Solve time: 0.03 sec\n",
      "-------------------------------------------------------------------------------\n",
      "Objective values: (2,), bounds: (2,), gaps: (0,)\n",
      "Variables:\n",
      "   LABELLING_0 = 4\n",
      "   LABELLING_1 = 3\n",
      "   LABELLING_2 = 5\n",
      "   LABELLING_3 = 1\n",
      "   LABELLING_4 = 2\n"
     ]
    }
   ],
   "source": [
    "solve_minimal_bandwith_problem(brut_force_graph)"
   ]
  },
  {
   "cell_type": "code",
   "execution_count": 29,
   "id": "1fc89637-acdc-4bb1-83f5-84aae5c43c87",
   "metadata": {},
   "outputs": [],
   "source": [
    "#Genetic Algorithm"
   ]
  },
  {
   "cell_type": "code",
   "execution_count": 30,
   "id": "7aedd471-13e0-4cd4-b796-849bc036338d",
   "metadata": {},
   "outputs": [],
   "source": [
    "class Individual:\n",
    "    \n",
    "    def __init__(self, graph, labelling):\n",
    "        self.code = labelling\n",
    "        self.nodes_number = graph.number_of_nodes()\n",
    "        self.nodes_bandwidths = np.zeros(self.nodes_number)\n",
    "        self.fitness = self.calculate_fitness(graph)\n",
    "\n",
    "    def calculate_fitness(self, graph):\n",
    "        graph_bandwidth = float('-inf')\n",
    "        for node in range(self.nodes_number):\n",
    "            self.nodes_bandwidths[node] = self.calculate_node_bandwidth(node, graph)\n",
    "            if self.nodes_bandwidths[node] > graph_bandwidth:\n",
    "                graph_bandwidth = self.nodes_bandwidths[node]\n",
    "        return graph_bandwidth\n",
    "\n",
    "    def calculate_node_bandwidth(self, node, graph):\n",
    "        min_labelling, max_labelling = self.find_min_and_max_neighbour_labelling(node, graph)\n",
    "        distance_to_min = abs(self.code[node] - min_labelling)\n",
    "        distance_to_max = abs(self.code[node] - max_labelling)\n",
    "        return max(distance_to_min, distance_to_max)\n",
    "\n",
    "    def find_min_and_max_neighbour_labelling(self, node, graph):\n",
    "        min_labelling = float('inf')\n",
    "        max_labelling = float('-inf')\n",
    "        for neighbour_node in list(graph.adj[node]):\n",
    "            if self.code[neighbour_node] < min_labelling:\n",
    "                min_labelling = self.code[neighbour_node]\n",
    "            if self.code[neighbour_node] > max_labelling:\n",
    "                max_labelling = self.code[neighbour_node]\n",
    "        return min_labelling, max_labelling\n",
    "\n",
    "    def swap_nodes_labels_and_calculate_fitness(self, first_node, second_node, graph):\n",
    "        self.code[first_node], self.code[second_node] = self.code[second_node], self.code[first_node]\n",
    "        \n",
    "        self.nodes_bandwidths[first_node] = self.calculate_node_bandwidth(first_node, graph)\n",
    "        self.nodes_bandwidths[second_node] = self.calculate_node_bandwidth(second_node, graph)\n",
    "        \n",
    "        for node in list(graph.adj[first_node]):\n",
    "            self.nodes_bandwidths[node] = self.calculate_node_bandwidth(node, graph)\n",
    "        \n",
    "        for node in list(graph.adj[second_node]):\n",
    "            self.nodes_bandwidths[node] = self.calculate_node_bandwidth(node, graph)\n",
    "\n",
    "        self.fitness = max(self.nodes_bandwidths)\n",
    "\n",
    "    def local_search(self, graph, num_of_iters):\n",
    "        iter = 0\n",
    "        can_improve = True\n",
    "        while can_improve and iter < num_of_iters:\n",
    "            iter = iter + 1\n",
    "            can_improve = False\n",
    "            current_graph_bandwidth = self.fitness\n",
    "            \n",
    "            for node in range(self.nodes_number):\n",
    "                node_bandwidth = self.nodes_bandwidths[node]\n",
    "                if node_bandwidth == current_graph_bandwidth:\n",
    "                    min_labelling, max_labelling = self.find_min_and_max_neighbour_labelling(node, graph)\n",
    "                    middle_value = (min_labelling + max_labelling) // 2\n",
    "                    \n",
    "                    suitable_nodes = find_suitable_swap_nodes(node, node_bandwidth, middle_value, graph, self.code)\n",
    "                    \n",
    "                    old = calc_number_of_critical_nodes(graph, self.code, current_graph_bandwidth)\n",
    "                    \n",
    "                    for suitable_node in suitable_nodes:\n",
    "                        self.swap_nodes_labels_and_calculate_fitness(node, suitable_node, graph)\n",
    "                        new_bandwidth = self.fitness\n",
    "    \n",
    "                        if new_bandwidth > current_graph_bandwidth:\n",
    "                            self.swap_nodes_labels_and_calculate_fitness(node, suitable_node, graph)\n",
    "                            continue\n",
    "                            \n",
    "                        new = calc_number_of_critical_nodes(graph, self.code, current_graph_bandwidth)\n",
    "                        \n",
    "                        if new < old:\n",
    "                            can_improve = True\n",
    "                            break\n",
    "                        else:\n",
    "                            self.swap_nodes_labels_and_calculate_fitness(node, suitable_node, graph)\n",
    "    \n",
    "    def __lt__(self, other):\n",
    "        return self.fitness < other.fitness\n",
    "    \n",
    "    def __str__(self):\n",
    "        return str(self.code) + ' ' + str(self.fitness)"
   ]
  },
  {
   "cell_type": "code",
   "execution_count": 31,
   "id": "3d01543c-806b-402c-a484-be1fc8cfd073",
   "metadata": {},
   "outputs": [],
   "source": [
    "def selection(population, tournament_size, forbidden):\n",
    "    allowed = list(set(range(len(population))).difference({forbidden}))\n",
    "    chosen = random.sample(allowed, tournament_size)\n",
    "    return min(chosen, key=lambda x: population[x].fitness)"
   ]
  },
  {
   "cell_type": "code",
   "execution_count": 32,
   "id": "8337d52d-7142-4814-aa54-08a5207179fa",
   "metadata": {},
   "outputs": [],
   "source": [
    " def roulette(population):\n",
    "    population_fitness = sum([p.fitness for p in population])\n",
    "    random_index = random.choices(range(len(population)), \n",
    "                                  weights=[p.fitness/population_fitness for p in population])\n",
    "    return population[random_index[0]]"
   ]
  },
  {
   "cell_type": "code",
   "execution_count": 33,
   "id": "29ec9465-c7fa-4114-95ff-cbbf1add0018",
   "metadata": {},
   "outputs": [],
   "source": [
    "def crossover(parent1, parent2, child1, child2, nodes_number):\n",
    "    break_point = random.choice(range(nodes_number))\n",
    "    \n",
    "    for i in range(break_point, nodes_number):\n",
    "        child1.code[i] = -1\n",
    "        child2.code[i] = -1\n",
    "    \n",
    "    child1.code[:break_point] = parent1.code[:break_point]\n",
    "    child2.code[:break_point] = parent2.code[:break_point]\n",
    "    \n",
    "    position_first = break_point\n",
    "    position_second = break_point\n",
    "    \n",
    "    for node in range(nodes_number):\n",
    "        if parent1.code[node] not in child2.code:\n",
    "            child2.code[position_first] = parent1.code[node]\n",
    "            position_first = position_first + 1\n",
    "        if parent2.code[node] not in child1.code:\n",
    "            child1.code[position_second] = parent2.code[node]\n",
    "            position_second = position_second + 1"
   ]
  },
  {
   "cell_type": "code",
   "execution_count": 34,
   "id": "bd55c3c1-5360-48ed-a498-88ab71b5fecb",
   "metadata": {},
   "outputs": [],
   "source": [
    "def mutation_with_k_swaps(individual, mutation_probability, k, graph):\n",
    "    number_of_nodes = graph.number_of_nodes()\n",
    "    if random.random() < mutation_probability:\n",
    "        for _ in range(k):\n",
    "            first_index = random.choice(range(number_of_nodes))\n",
    "            second_index = random.choice(range(number_of_nodes))\n",
    "            individual.swap_nodes_labels_and_calculate_fitness(first_index, second_index, graph)"
   ]
  },
  {
   "cell_type": "code",
   "execution_count": 35,
   "id": "2af3cb0a-b8bf-4f27-8a5d-0eb0384e1a35",
   "metadata": {},
   "outputs": [],
   "source": [
    "def genetic_algorithm(graph, population_size, num_of_iters, tournament_size, mutation_probability, local_search_iter_num):\n",
    "\n",
    "    # layers = dict(enumerate(nx.bfs_layers(graph, [0])))\n",
    "    \n",
    "    number_of_labels = graph.number_of_nodes()\n",
    "    initial_labelling = [label for label in range(1, number_of_labels + 1)]\n",
    "    population = [Individual(graph, random.sample(initial_labelling, number_of_labels)) for _ in range(population_size)]\n",
    "    new_population = [Individual(graph, random.sample(initial_labelling, number_of_labels)) for _ in range(population_size)]\n",
    "\n",
    "    for i in range(population_size // 4):\n",
    "        population[i].local_search(graph, local_search_iter_num)\n",
    "        \n",
    "    # for individual in population:\n",
    "    #     individual.local_search(graph, local_search_iter_num)\n",
    "\n",
    "    elitism_size = population_size // 5\n",
    "    # elitism_size = 0\n",
    "\n",
    "    for iter in range(num_of_iters):\n",
    "        population.sort()\n",
    "        new_population[:elitism_size] = copy.deepcopy(population[:elitism_size])\n",
    "\n",
    "        for i in range(elitism_size, population_size, 2):\n",
    "            parent1_index = selection(population, tournament_size, None)\n",
    "            parent2_index = selection(population, tournament_size, parent1_index)\n",
    "            \n",
    "            crossover(population[parent1_index], population[parent2_index], new_population[i], new_population[i+1], number_of_labels)\n",
    "\n",
    "            mutation_with_k_swaps(new_population[i], mutation_probability, 1, graph)\n",
    "            mutation_with_k_swaps(new_population[i+1], mutation_probability, 1, graph)\n",
    "\n",
    "            new_population[i].fitness = new_population[i].calculate_fitness(graph)\n",
    "            new_population[i+1].fitness = new_population[i+1].calculate_fitness(graph)\n",
    "\n",
    "            new_population[i].local_search(graph, local_search_iter_num)\n",
    "            new_population[i+1].local_search(graph, local_search_iter_num)\n",
    "\n",
    "        population = copy.deepcopy(new_population)\n",
    "        \n",
    "    return min(population)"
   ]
  },
  {
   "cell_type": "code",
   "execution_count": 39,
   "id": "1a9810b0-bbda-4a34-8921-05bf64991e39",
   "metadata": {},
   "outputs": [],
   "source": [
    "random_graphs = []\n",
    "i = 0\n",
    "for i in range(210):\n",
    "    graph = nx.read_gml('graphs/small_random_graphs/' + str(i+1) + '.gml')\n",
    "    graph = graph.to_undirected()\n",
    "    graph = nx.convert_node_labels_to_integers(graph)\n",
    "    graph.graph['name'] = str(i+1)\n",
    "    random_graphs.append(graph)"
   ]
  },
  {
   "cell_type": "code",
   "execution_count": 40,
   "id": "6e22bbb4-d94c-4513-971b-f3371a30216e",
   "metadata": {},
   "outputs": [
    {
     "name": "stdout",
     "output_type": "stream",
     "text": [
      "Graph name: 1, number of nodes: 5, minimal bandwidth: 2, time: 0.0012111663818359375\n",
      "Graph name: 2, number of nodes: 5, minimal bandwidth: 1, time: 0.0008728504180908203\n",
      "Graph name: 3, number of nodes: 5, minimal bandwidth: 2, time: 0.0009350776672363281\n",
      "Graph name: 4, number of nodes: 5, minimal bandwidth: 2, time: 0.0009579658508300781\n",
      "Graph name: 5, number of nodes: 5, minimal bandwidth: 2, time: 0.0009970664978027344\n",
      "Graph name: 6, number of nodes: 5, minimal bandwidth: 3, time: 0.0013039112091064453\n",
      "Graph name: 7, number of nodes: 5, minimal bandwidth: 2, time: 0.001238107681274414\n",
      "Graph name: 8, number of nodes: 5, minimal bandwidth: 2, time: 0.001110076904296875\n",
      "Graph name: 9, number of nodes: 5, minimal bandwidth: 3, time: 0.0010499954223632812\n",
      "Graph name: 10, number of nodes: 5, minimal bandwidth: 2, time: 0.0010042190551757812\n",
      "Graph name: 11, number of nodes: 5, minimal bandwidth: 3, time: 0.0010609626770019531\n",
      "Graph name: 12, number of nodes: 5, minimal bandwidth: 3, time: 0.0013360977172851562\n",
      "Graph name: 13, number of nodes: 5, minimal bandwidth: 3, time: 0.0012700557708740234\n",
      "Graph name: 14, number of nodes: 5, minimal bandwidth: 2, time: 0.0009949207305908203\n",
      "Graph name: 15, number of nodes: 5, minimal bandwidth: 3, time: 0.0013849735260009766\n",
      "Graph name: 16, number of nodes: 5, minimal bandwidth: 2, time: 0.0020110607147216797\n",
      "Graph name: 17, number of nodes: 5, minimal bandwidth: 3, time: 0.0015408992767333984\n",
      "Graph name: 18, number of nodes: 5, minimal bandwidth: 2, time: 0.000993967056274414\n",
      "Graph name: 19, number of nodes: 5, minimal bandwidth: 3, time: 0.0013949871063232422\n",
      "Graph name: 20, number of nodes: 5, minimal bandwidth: 3, time: 0.0010597705841064453\n",
      "Graph name: 21, number of nodes: 5, minimal bandwidth: 4, time: 0.0011379718780517578\n",
      "Graph name: 22, number of nodes: 5, minimal bandwidth: 3, time: 0.00110626220703125\n",
      "Graph name: 23, number of nodes: 5, minimal bandwidth: 3, time: 0.0010797977447509766\n",
      "Graph name: 24, number of nodes: 5, minimal bandwidth: 3, time: 0.0010249614715576172\n",
      "Graph name: 25, number of nodes: 5, minimal bandwidth: 4, time: 0.001216888427734375\n",
      "Graph name: 26, number of nodes: 5, minimal bandwidth: 3, time: 0.0010480880737304688\n",
      "Graph name: 27, number of nodes: 5, minimal bandwidth: 4, time: 0.001149892807006836\n",
      "Graph name: 28, number of nodes: 5, minimal bandwidth: 2, time: 0.0010361671447753906\n",
      "Graph name: 29, number of nodes: 5, minimal bandwidth: 3, time: 0.0010769367218017578\n",
      "Graph name: 30, number of nodes: 5, minimal bandwidth: 4, time: 0.0011398792266845703\n",
      "Graph name: 31, number of nodes: 5, minimal bandwidth: 4, time: 0.00127410888671875\n",
      "Graph name: 32, number of nodes: 5, minimal bandwidth: 4, time: 0.0012700557708740234\n",
      "Graph name: 33, number of nodes: 5, minimal bandwidth: 4, time: 0.001196146011352539\n",
      "Graph name: 34, number of nodes: 5, minimal bandwidth: 3, time: 0.0010991096496582031\n",
      "Graph name: 35, number of nodes: 5, minimal bandwidth: 4, time: 0.0011479854583740234\n",
      "Graph name: 36, number of nodes: 6, minimal bandwidth: 2, time: 0.007899999618530273\n",
      "Graph name: 37, number of nodes: 6, minimal bandwidth: 3, time: 0.0074269771575927734\n",
      "Graph name: 38, number of nodes: 6, minimal bandwidth: 3, time: 0.007951021194458008\n",
      "Graph name: 39, number of nodes: 6, minimal bandwidth: 2, time: 0.007581949234008789\n",
      "Graph name: 40, number of nodes: 6, minimal bandwidth: 2, time: 0.007105112075805664\n",
      "Graph name: 41, number of nodes: 6, minimal bandwidth: 3, time: 0.007411003112792969\n",
      "Graph name: 42, number of nodes: 6, minimal bandwidth: 2, time: 0.0073320865631103516\n",
      "Graph name: 43, number of nodes: 6, minimal bandwidth: 3, time: 0.006936788558959961\n",
      "Graph name: 44, number of nodes: 6, minimal bandwidth: 3, time: 0.0074999332427978516\n",
      "Graph name: 45, number of nodes: 6, minimal bandwidth: 2, time: 0.0067958831787109375\n",
      "Graph name: 46, number of nodes: 6, minimal bandwidth: 3, time: 0.007497310638427734\n",
      "Graph name: 47, number of nodes: 6, minimal bandwidth: 3, time: 0.00754094123840332\n",
      "Graph name: 48, number of nodes: 6, minimal bandwidth: 4, time: 0.008211851119995117\n",
      "Graph name: 49, number of nodes: 6, minimal bandwidth: 3, time: 0.007695198059082031\n",
      "Graph name: 50, number of nodes: 6, minimal bandwidth: 3, time: 0.008419990539550781\n",
      "Graph name: 51, number of nodes: 6, minimal bandwidth: 3, time: 0.008421897888183594\n",
      "Graph name: 52, number of nodes: 6, minimal bandwidth: 4, time: 0.008998870849609375\n",
      "Graph name: 53, number of nodes: 6, minimal bandwidth: 4, time: 0.007772207260131836\n",
      "Graph name: 54, number of nodes: 6, minimal bandwidth: 3, time: 0.008196830749511719\n",
      "Graph name: 55, number of nodes: 6, minimal bandwidth: 3, time: 0.007961034774780273\n",
      "Graph name: 56, number of nodes: 6, minimal bandwidth: 4, time: 0.008831977844238281\n",
      "Graph name: 57, number of nodes: 6, minimal bandwidth: 4, time: 0.00824594497680664\n",
      "Graph name: 58, number of nodes: 6, minimal bandwidth: 3, time: 0.008584976196289062\n",
      "Graph name: 59, number of nodes: 6, minimal bandwidth: 4, time: 0.008725881576538086\n",
      "Graph name: 60, number of nodes: 6, minimal bandwidth: 4, time: 0.008926868438720703\n",
      "Graph name: 61, number of nodes: 6, minimal bandwidth: 4, time: 0.008517980575561523\n",
      "Graph name: 62, number of nodes: 6, minimal bandwidth: 4, time: 0.008607149124145508\n",
      "Graph name: 63, number of nodes: 6, minimal bandwidth: 5, time: 0.008761882781982422\n",
      "Graph name: 64, number of nodes: 6, minimal bandwidth: 4, time: 0.008627891540527344\n",
      "Graph name: 65, number of nodes: 6, minimal bandwidth: 4, time: 0.008661031723022461\n",
      "Graph name: 66, number of nodes: 6, minimal bandwidth: 5, time: 0.009582042694091797\n",
      "Graph name: 67, number of nodes: 6, minimal bandwidth: 4, time: 0.008389949798583984\n",
      "Graph name: 68, number of nodes: 6, minimal bandwidth: 4, time: 0.00807499885559082\n",
      "Graph name: 69, number of nodes: 6, minimal bandwidth: 5, time: 0.008624792098999023\n",
      "Graph name: 70, number of nodes: 6, minimal bandwidth: 5, time: 0.008440017700195312\n",
      "Graph name: 71, number of nodes: 7, minimal bandwidth: 3, time: 0.06025099754333496\n",
      "Graph name: 72, number of nodes: 7, minimal bandwidth: 3, time: 0.05954408645629883\n",
      "Graph name: 73, number of nodes: 7, minimal bandwidth: 2, time: 0.05102896690368652\n",
      "Graph name: 74, number of nodes: 7, minimal bandwidth: 2, time: 0.05768704414367676\n",
      "Graph name: 75, number of nodes: 7, minimal bandwidth: 3, time: 0.06566309928894043\n",
      "Graph name: 76, number of nodes: 7, minimal bandwidth: 3, time: 0.06159710884094238\n",
      "Graph name: 77, number of nodes: 7, minimal bandwidth: 3, time: 0.06788873672485352\n",
      "Graph name: 78, number of nodes: 7, minimal bandwidth: 3, time: 0.06527996063232422\n",
      "Graph name: 79, number of nodes: 7, minimal bandwidth: 3, time: 0.060463905334472656\n",
      "Graph name: 80, number of nodes: 7, minimal bandwidth: 4, time: 0.06063199043273926\n",
      "Graph name: 81, number of nodes: 7, minimal bandwidth: 5, time: 0.07194232940673828\n",
      "Graph name: 82, number of nodes: 7, minimal bandwidth: 4, time: 0.06880784034729004\n",
      "Graph name: 83, number of nodes: 7, minimal bandwidth: 3, time: 0.06480979919433594\n",
      "Graph name: 84, number of nodes: 7, minimal bandwidth: 4, time: 0.06564879417419434\n",
      "Graph name: 85, number of nodes: 7, minimal bandwidth: 5, time: 0.0770881175994873\n",
      "Graph name: 86, number of nodes: 7, minimal bandwidth: 4, time: 0.07853221893310547\n",
      "Graph name: 87, number of nodes: 7, minimal bandwidth: 4, time: 0.07006120681762695\n",
      "Graph name: 88, number of nodes: 7, minimal bandwidth: 4, time: 0.0649421215057373\n",
      "Graph name: 89, number of nodes: 7, minimal bandwidth: 4, time: 0.0689389705657959\n",
      "Graph name: 90, number of nodes: 7, minimal bandwidth: 4, time: 0.07427096366882324\n",
      "Graph name: 91, number of nodes: 7, minimal bandwidth: 4, time: 0.07392096519470215\n",
      "Graph name: 92, number of nodes: 7, minimal bandwidth: 4, time: 0.0750420093536377\n",
      "Graph name: 93, number of nodes: 7, minimal bandwidth: 4, time: 0.071044921875\n",
      "Graph name: 94, number of nodes: 7, minimal bandwidth: 5, time: 0.07664799690246582\n",
      "Graph name: 95, number of nodes: 7, minimal bandwidth: 5, time: 0.07700824737548828\n",
      "Graph name: 96, number of nodes: 7, minimal bandwidth: 5, time: 0.07594966888427734\n",
      "Graph name: 97, number of nodes: 7, minimal bandwidth: 5, time: 0.07802796363830566\n",
      "Graph name: 98, number of nodes: 7, minimal bandwidth: 5, time: 0.07572197914123535\n",
      "Graph name: 99, number of nodes: 7, minimal bandwidth: 5, time: 0.07518291473388672\n",
      "Graph name: 100, number of nodes: 7, minimal bandwidth: 5, time: 0.07185196876525879\n",
      "Graph name: 101, number of nodes: 7, minimal bandwidth: 5, time: 0.07682394981384277\n",
      "Graph name: 102, number of nodes: 7, minimal bandwidth: 5, time: 0.07152915000915527\n",
      "Graph name: 103, number of nodes: 7, minimal bandwidth: 6, time: 0.07547402381896973\n",
      "Graph name: 104, number of nodes: 7, minimal bandwidth: 6, time: 0.07689619064331055\n",
      "Graph name: 105, number of nodes: 7, minimal bandwidth: 5, time: 0.07518792152404785\n",
      "Graph name: 106, number of nodes: 8, minimal bandwidth: 3, time: 0.5218977928161621\n",
      "Graph name: 107, number of nodes: 8, minimal bandwidth: 3, time: 0.4804210662841797\n",
      "Graph name: 108, number of nodes: 8, minimal bandwidth: 4, time: 0.5559589862823486\n",
      "Graph name: 109, number of nodes: 8, minimal bandwidth: 4, time: 0.5871517658233643\n",
      "Graph name: 110, number of nodes: 8, minimal bandwidth: 3, time: 0.5387718677520752\n",
      "Graph name: 111, number of nodes: 8, minimal bandwidth: 2, time: 0.4835541248321533\n",
      "Graph name: 112, number of nodes: 8, minimal bandwidth: 4, time: 0.5730552673339844\n",
      "Graph name: 113, number of nodes: 8, minimal bandwidth: 4, time: 0.5568959712982178\n",
      "Graph name: 114, number of nodes: 8, minimal bandwidth: 3, time: 0.5562000274658203\n",
      "Graph name: 115, number of nodes: 8, minimal bandwidth: 4, time: 0.5596978664398193\n",
      "Graph name: 116, number of nodes: 8, minimal bandwidth: 5, time: 0.651817798614502\n",
      "Graph name: 117, number of nodes: 8, minimal bandwidth: 4, time: 0.5861959457397461\n",
      "Graph name: 118, number of nodes: 8, minimal bandwidth: 4, time: 0.5913021564483643\n",
      "Graph name: 119, number of nodes: 8, minimal bandwidth: 4, time: 0.5699408054351807\n",
      "Graph name: 120, number of nodes: 8, minimal bandwidth: 5, time: 0.6501390933990479\n",
      "Graph name: 121, number of nodes: 8, minimal bandwidth: 5, time: 0.6712799072265625\n",
      "Graph name: 122, number of nodes: 8, minimal bandwidth: 5, time: 0.6374590396881104\n",
      "Graph name: 123, number of nodes: 8, minimal bandwidth: 5, time: 0.6660630702972412\n",
      "Graph name: 124, number of nodes: 8, minimal bandwidth: 4, time: 0.6161758899688721\n",
      "Graph name: 125, number of nodes: 8, minimal bandwidth: 4, time: 0.635155200958252\n",
      "Graph name: 126, number of nodes: 8, minimal bandwidth: 6, time: 0.7188241481781006\n",
      "Graph name: 127, number of nodes: 8, minimal bandwidth: 5, time: 0.6941609382629395\n",
      "Graph name: 128, number of nodes: 8, minimal bandwidth: 5, time: 0.7219672203063965\n",
      "Graph name: 129, number of nodes: 8, minimal bandwidth: 5, time: 0.6714701652526855\n",
      "Graph name: 130, number of nodes: 8, minimal bandwidth: 5, time: 0.6701910495758057\n",
      "Graph name: 131, number of nodes: 8, minimal bandwidth: 5, time: 0.7018651962280273\n",
      "Graph name: 132, number of nodes: 8, minimal bandwidth: 5, time: 0.6960041522979736\n",
      "Graph name: 133, number of nodes: 8, minimal bandwidth: 6, time: 0.7355210781097412\n",
      "Graph name: 134, number of nodes: 8, minimal bandwidth: 5, time: 0.6899948120117188\n",
      "Graph name: 135, number of nodes: 8, minimal bandwidth: 6, time: 0.7514967918395996\n",
      "Graph name: 136, number of nodes: 8, minimal bandwidth: 7, time: 0.7632312774658203\n",
      "Graph name: 137, number of nodes: 8, minimal bandwidth: 6, time: 0.7289080619812012\n",
      "Graph name: 138, number of nodes: 8, minimal bandwidth: 6, time: 0.7297689914703369\n",
      "Graph name: 139, number of nodes: 8, minimal bandwidth: 6, time: 0.7089200019836426\n",
      "Graph name: 140, number of nodes: 8, minimal bandwidth: 6, time: 0.7390458583831787\n",
      "Graph name: 141, number of nodes: 9, minimal bandwidth: 5, time: 6.2246599197387695\n",
      "Graph name: 142, number of nodes: 9, minimal bandwidth: 4, time: 5.335569858551025\n",
      "Graph name: 143, number of nodes: 9, minimal bandwidth: 3, time: 4.866188049316406\n",
      "Graph name: 144, number of nodes: 9, minimal bandwidth: 4, time: 5.597724914550781\n",
      "Graph name: 145, number of nodes: 9, minimal bandwidth: 4, time: 6.099999904632568\n",
      "Graph name: 146, number of nodes: 9, minimal bandwidth: 4, time: 6.180506706237793\n",
      "Graph name: 147, number of nodes: 9, minimal bandwidth: 4, time: 5.509509086608887\n",
      "Graph name: 148, number of nodes: 9, minimal bandwidth: 5, time: 6.373335838317871\n",
      "Graph name: 149, number of nodes: 9, minimal bandwidth: 5, time: 6.5119547843933105\n",
      "Graph name: 150, number of nodes: 9, minimal bandwidth: 4, time: 5.64322304725647\n",
      "Graph name: 151, number of nodes: 9, minimal bandwidth: 4, time: 6.565286874771118\n",
      "Graph name: 152, number of nodes: 9, minimal bandwidth: 5, time: 6.670085906982422\n",
      "Graph name: 153, number of nodes: 9, minimal bandwidth: 5, time: 6.622298002243042\n",
      "Graph name: 154, number of nodes: 9, minimal bandwidth: 5, time: 6.677692890167236\n",
      "Graph name: 155, number of nodes: 9, minimal bandwidth: 5, time: 6.503222942352295\n",
      "Graph name: 156, number of nodes: 9, minimal bandwidth: 5, time: 6.759310007095337\n",
      "Graph name: 157, number of nodes: 9, minimal bandwidth: 6, time: 7.373154163360596\n",
      "Graph name: 158, number of nodes: 9, minimal bandwidth: 6, time: 7.371599912643433\n",
      "Graph name: 159, number of nodes: 9, minimal bandwidth: 6, time: 7.149381160736084\n",
      "Graph name: 160, number of nodes: 9, minimal bandwidth: 5, time: 6.8733179569244385\n",
      "Graph name: 161, number of nodes: 9, minimal bandwidth: 6, time: 7.380086183547974\n",
      "Graph name: 162, number of nodes: 9, minimal bandwidth: 6, time: 7.844090938568115\n",
      "Graph name: 163, number of nodes: 9, minimal bandwidth: 7, time: 7.85785984992981\n",
      "Graph name: 164, number of nodes: 9, minimal bandwidth: 6, time: 7.677292108535767\n",
      "Graph name: 165, number of nodes: 9, minimal bandwidth: 7, time: 8.05517315864563\n",
      "Graph name: 166, number of nodes: 9, minimal bandwidth: 7, time: 8.360763788223267\n",
      "Graph name: 167, number of nodes: 9, minimal bandwidth: 7, time: 8.283367156982422\n",
      "Graph name: 168, number of nodes: 9, minimal bandwidth: 7, time: 8.555581092834473\n",
      "Graph name: 169, number of nodes: 9, minimal bandwidth: 7, time: 8.678004026412964\n",
      "Graph name: 170, number of nodes: 9, minimal bandwidth: 7, time: 8.485702276229858\n",
      "Graph name: 171, number of nodes: 9, minimal bandwidth: 8, time: 8.848235130310059\n",
      "Graph name: 172, number of nodes: 9, minimal bandwidth: 7, time: 8.53904414176941\n",
      "Graph name: 173, number of nodes: 9, minimal bandwidth: 8, time: 8.611165046691895\n",
      "Graph name: 174, number of nodes: 9, minimal bandwidth: 7, time: 8.617444276809692\n",
      "Graph name: 175, number of nodes: 9, minimal bandwidth: 8, time: 8.744506120681763\n",
      "Graph name: 176, number of nodes: 10, minimal bandwidth: 5, time: 72.09839224815369\n",
      "Graph name: 177, number of nodes: 10, minimal bandwidth: 4, time: 72.21328115463257\n",
      "Graph name: 178, number of nodes: 10, minimal bandwidth: 4, time: 62.058682918548584\n"
     ]
    },
    {
     "ename": "KeyboardInterrupt",
     "evalue": "",
     "output_type": "error",
     "traceback": [
      "\u001b[0;31m---------------------------------------------------------------------------\u001b[0m",
      "\u001b[0;31mKeyboardInterrupt\u001b[0m                         Traceback (most recent call last)",
      "Cell \u001b[0;32mIn[40], line 5\u001b[0m\n\u001b[1;32m      2\u001b[0m initial_labelling \u001b[38;5;241m=\u001b[39m [label \u001b[38;5;28;01mfor\u001b[39;00m label \u001b[38;5;129;01min\u001b[39;00m \u001b[38;5;28mrange\u001b[39m(\u001b[38;5;241m1\u001b[39m, random_graph\u001b[38;5;241m.\u001b[39mnumber_of_nodes() \u001b[38;5;241m+\u001b[39m \u001b[38;5;241m1\u001b[39m)]\n\u001b[1;32m      4\u001b[0m start_time \u001b[38;5;241m=\u001b[39m time\u001b[38;5;241m.\u001b[39mtime()\n\u001b[0;32m----> 5\u001b[0m result \u001b[38;5;241m=\u001b[39m \u001b[43mbrute_force\u001b[49m\u001b[43m(\u001b[49m\u001b[43mrandom_graph\u001b[49m\u001b[43m,\u001b[49m\u001b[43m \u001b[49m\u001b[43minitial_labelling\u001b[49m\u001b[43m)\u001b[49m\n\u001b[1;32m      6\u001b[0m end_time \u001b[38;5;241m=\u001b[39m time\u001b[38;5;241m.\u001b[39mtime()\n\u001b[1;32m      7\u001b[0m elapsed_time \u001b[38;5;241m=\u001b[39m end_time \u001b[38;5;241m-\u001b[39m start_time\n",
      "Cell \u001b[0;32mIn[15], line 4\u001b[0m, in \u001b[0;36mbrute_force\u001b[0;34m(graph, initial_labeling)\u001b[0m\n\u001b[1;32m      2\u001b[0m minimal_bandwidth \u001b[38;5;241m=\u001b[39m \u001b[38;5;28mfloat\u001b[39m(\u001b[38;5;124m'\u001b[39m\u001b[38;5;124minf\u001b[39m\u001b[38;5;124m'\u001b[39m)\n\u001b[1;32m      3\u001b[0m \u001b[38;5;28;01mfor\u001b[39;00m permutation \u001b[38;5;129;01min\u001b[39;00m itertools\u001b[38;5;241m.\u001b[39mpermutations(initial_labeling):\n\u001b[0;32m----> 4\u001b[0m     new_bandwidth \u001b[38;5;241m=\u001b[39m \u001b[43mcalculate_graph_bandwidth\u001b[49m\u001b[43m(\u001b[49m\u001b[43mgraph\u001b[49m\u001b[43m,\u001b[49m\u001b[43m \u001b[49m\u001b[43mpermutation\u001b[49m\u001b[43m)\u001b[49m\n\u001b[1;32m      5\u001b[0m     \u001b[38;5;28;01mif\u001b[39;00m new_bandwidth \u001b[38;5;241m<\u001b[39m minimal_bandwidth:\n\u001b[1;32m      6\u001b[0m         minimal_bandwidth \u001b[38;5;241m=\u001b[39m new_bandwidth\n",
      "Cell \u001b[0;32mIn[12], line 5\u001b[0m, in \u001b[0;36mcalculate_graph_bandwidth\u001b[0;34m(graph, labelling)\u001b[0m\n\u001b[1;32m      3\u001b[0m graph_bandwidth \u001b[38;5;241m=\u001b[39m  \u001b[38;5;28mfloat\u001b[39m(\u001b[38;5;124m'\u001b[39m\u001b[38;5;124m-inf\u001b[39m\u001b[38;5;124m'\u001b[39m)\n\u001b[1;32m      4\u001b[0m \u001b[38;5;28;01mfor\u001b[39;00m current_node \u001b[38;5;129;01min\u001b[39;00m \u001b[38;5;28mrange\u001b[39m(number_of_nodes):\n\u001b[0;32m----> 5\u001b[0m     current_node_bandwidth \u001b[38;5;241m=\u001b[39m \u001b[43mcalculate_node_bandwidth\u001b[49m\u001b[43m(\u001b[49m\u001b[43mcurrent_node\u001b[49m\u001b[43m,\u001b[49m\u001b[43m \u001b[49m\u001b[43mgraph\u001b[49m\u001b[43m,\u001b[49m\u001b[43m \u001b[49m\u001b[43mlabelling\u001b[49m\u001b[43m)\u001b[49m\n\u001b[1;32m      6\u001b[0m     graph_bandwidth \u001b[38;5;241m=\u001b[39m \u001b[38;5;28mmax\u001b[39m(graph_bandwidth, current_node_bandwidth)\n\u001b[1;32m      7\u001b[0m \u001b[38;5;28;01mreturn\u001b[39;00m graph_bandwidth\n",
      "Cell \u001b[0;32mIn[11], line 3\u001b[0m, in \u001b[0;36mcalculate_node_bandwidth\u001b[0;34m(node, graph, labelling)\u001b[0m\n\u001b[1;32m      1\u001b[0m \u001b[38;5;28;01mdef\u001b[39;00m \u001b[38;5;21mcalculate_node_bandwidth\u001b[39m(node, graph, labelling):\n\u001b[1;32m      2\u001b[0m     node_bandwidth \u001b[38;5;241m=\u001b[39m  \u001b[38;5;28mfloat\u001b[39m(\u001b[38;5;124m'\u001b[39m\u001b[38;5;124m-inf\u001b[39m\u001b[38;5;124m'\u001b[39m)\n\u001b[0;32m----> 3\u001b[0m     \u001b[38;5;28;01mfor\u001b[39;00m neighbour_node \u001b[38;5;129;01min\u001b[39;00m \u001b[38;5;28mlist\u001b[39m(\u001b[43mgraph\u001b[49m\u001b[38;5;241;43m.\u001b[39;49m\u001b[43madj\u001b[49m\u001b[43m[\u001b[49m\u001b[43mnode\u001b[49m\u001b[43m]\u001b[49m):\n\u001b[1;32m      4\u001b[0m         node_bandwidth \u001b[38;5;241m=\u001b[39m \u001b[38;5;28mmax\u001b[39m(node_bandwidth, \u001b[38;5;28mabs\u001b[39m(labelling[node] \u001b[38;5;241m-\u001b[39m labelling[neighbour_node]))\n\u001b[1;32m      5\u001b[0m     \u001b[38;5;28;01mreturn\u001b[39;00m node_bandwidth\n",
      "File \u001b[0;32m/Library/Frameworks/Python.framework/Versions/3.11/lib/python3.11/site-packages/networkx/classes/coreviews.py:81\u001b[0m, in \u001b[0;36mAdjacencyView.__getitem__\u001b[0;34m(self, name)\u001b[0m\n\u001b[1;32m     80\u001b[0m \u001b[38;5;28;01mdef\u001b[39;00m \u001b[38;5;21m__getitem__\u001b[39m(\u001b[38;5;28mself\u001b[39m, name):\n\u001b[0;32m---> 81\u001b[0m     \u001b[38;5;28;01mreturn\u001b[39;00m \u001b[43mAtlasView\u001b[49m\u001b[43m(\u001b[49m\u001b[38;5;28;43mself\u001b[39;49m\u001b[38;5;241;43m.\u001b[39;49m\u001b[43m_atlas\u001b[49m\u001b[43m[\u001b[49m\u001b[43mname\u001b[49m\u001b[43m]\u001b[49m\u001b[43m)\u001b[49m\n",
      "\u001b[0;31mKeyboardInterrupt\u001b[0m: "
     ]
    }
   ],
   "source": [
    "for random_graph in random_graphs:\n",
    "    initial_labelling = [label for label in range(1, random_graph.number_of_nodes() + 1)]\n",
    "    \n",
    "    start_time = time.time()\n",
    "    result = brute_force(random_graph, initial_labelling)\n",
    "    end_time = time.time()\n",
    "    elapsed_time = end_time - start_time\n",
    "    \n",
    "    print(f\"Graph name: {random_graph.graph['name']}, number of nodes: {random_graph.number_of_nodes()}, minimal bandwidth: {result}, time: {elapsed_time}\")"
   ]
  },
  {
   "cell_type": "code",
   "execution_count": 44,
   "id": "7094197e-fba6-4fec-8bc9-961cf10dfdf2",
   "metadata": {},
   "outputs": [
    {
     "name": "stdout",
     "output_type": "stream",
     "text": [
      "Graph name: 1, number of nodes:5, bandwidth_ls:2, time_ls:0.0004, bandwidth_ga:2.0, time_ga:0.173\n",
      "Graph name: 2, number of nodes:5, bandwidth_ls:1, time_ls:0.0002, bandwidth_ga:1.0, time_ga:0.0914\n",
      "Graph name: 3, number of nodes:5, bandwidth_ls:2, time_ls:0.0002, bandwidth_ga:2.0, time_ga:0.1204\n",
      "Graph name: 4, number of nodes:5, bandwidth_ls:2, time_ls:0.0004, bandwidth_ga:2.0, time_ga:0.2072\n",
      "Graph name: 5, number of nodes:5, bandwidth_ls:2, time_ls:0.0004, bandwidth_ga:2.0, time_ga:0.1922\n",
      "Graph name: 6, number of nodes:5, bandwidth_ls:3, time_ls:0.0004, bandwidth_ga:3.0, time_ga:0.1595\n",
      "Graph name: 7, number of nodes:5, bandwidth_ls:2, time_ls:0.0002, bandwidth_ga:2.0, time_ga:0.1514\n",
      "Graph name: 8, number of nodes:5, bandwidth_ls:2, time_ls:0.0003, bandwidth_ga:2.0, time_ga:0.16\n",
      "Graph name: 9, number of nodes:5, bandwidth_ls:3, time_ls:0.0002, bandwidth_ga:3.0, time_ga:0.1643\n",
      "Graph name: 10, number of nodes:5, bandwidth_ls:2, time_ls:0.0003, bandwidth_ga:2.0, time_ga:0.192\n",
      "Graph name: 11, number of nodes:5, bandwidth_ls:3, time_ls:0.0003, bandwidth_ga:3.0, time_ga:0.1631\n",
      "Graph name: 12, number of nodes:5, bandwidth_ls:3, time_ls:0.0003, bandwidth_ga:3.0, time_ga:0.2392\n",
      "Graph name: 13, number of nodes:5, bandwidth_ls:3, time_ls:0.0003, bandwidth_ga:3.0, time_ga:0.1765\n",
      "Graph name: 14, number of nodes:5, bandwidth_ls:2, time_ls:0.0004, bandwidth_ga:2.0, time_ga:0.1493\n",
      "Graph name: 15, number of nodes:5, bandwidth_ls:3, time_ls:0.0005, bandwidth_ga:3.0, time_ga:0.3033\n",
      "Graph name: 16, number of nodes:5, bandwidth_ls:2, time_ls:0.0004, bandwidth_ga:2.0, time_ga:0.1562\n",
      "Graph name: 17, number of nodes:5, bandwidth_ls:3, time_ls:0.0006, bandwidth_ga:3.0, time_ga:0.1801\n",
      "Graph name: 18, number of nodes:5, bandwidth_ls:3, time_ls:0.0002, bandwidth_ga:2.0, time_ga:0.168\n",
      "Graph name: 19, number of nodes:5, bandwidth_ls:3, time_ls:0.0003, bandwidth_ga:3.0, time_ga:0.246\n",
      "Graph name: 20, number of nodes:5, bandwidth_ls:3, time_ls:0.0003, bandwidth_ga:3.0, time_ga:0.1895\n",
      "Graph name: 21, number of nodes:5, bandwidth_ls:4, time_ls:0.0003, bandwidth_ga:4.0, time_ga:0.2618\n",
      "Graph name: 22, number of nodes:5, bandwidth_ls:3, time_ls:0.0002, bandwidth_ga:3.0, time_ga:0.1724\n",
      "Graph name: 23, number of nodes:5, bandwidth_ls:3, time_ls:0.0003, bandwidth_ga:3.0, time_ga:0.2104\n",
      "Graph name: 24, number of nodes:5, bandwidth_ls:3, time_ls:0.0004, bandwidth_ga:3.0, time_ga:0.2394\n",
      "Graph name: 25, number of nodes:5, bandwidth_ls:4, time_ls:0.0003, bandwidth_ga:4.0, time_ga:0.2507\n",
      "Graph name: 26, number of nodes:5, bandwidth_ls:3, time_ls:0.0003, bandwidth_ga:3.0, time_ga:0.2602\n",
      "Graph name: 27, number of nodes:5, bandwidth_ls:4, time_ls:0.0003, bandwidth_ga:4.0, time_ga:0.2623\n",
      "Graph name: 28, number of nodes:5, bandwidth_ls:3, time_ls:0.0003, bandwidth_ga:2.0, time_ga:0.1904\n",
      "Graph name: 29, number of nodes:5, bandwidth_ls:3, time_ls:0.0004, bandwidth_ga:3.0, time_ga:0.2419\n",
      "Graph name: 30, number of nodes:5, bandwidth_ls:4, time_ls:0.0002, bandwidth_ga:4.0, time_ga:0.2632\n",
      "Graph name: 31, number of nodes:5, bandwidth_ls:4, time_ls:0.0003, bandwidth_ga:4.0, time_ga:0.2479\n",
      "Graph name: 32, number of nodes:5, bandwidth_ls:4, time_ls:0.0003, bandwidth_ga:4.0, time_ga:0.247\n",
      "Graph name: 33, number of nodes:5, bandwidth_ls:4, time_ls:0.0002, bandwidth_ga:4.0, time_ga:0.2469\n",
      "Graph name: 34, number of nodes:5, bandwidth_ls:3, time_ls:0.0003, bandwidth_ga:3.0, time_ga:0.2188\n",
      "Graph name: 35, number of nodes:5, bandwidth_ls:4, time_ls:0.0002, bandwidth_ga:4.0, time_ga:0.2439\n",
      "Graph name: 36, number of nodes:6, bandwidth_ls:2, time_ls:0.0006, bandwidth_ga:2.0, time_ga:0.1745\n",
      "Graph name: 37, number of nodes:6, bandwidth_ls:3, time_ls:0.0007, bandwidth_ga:3.0, time_ga:0.2605\n",
      "Graph name: 38, number of nodes:6, bandwidth_ls:3, time_ls:0.0002, bandwidth_ga:3.0, time_ga:0.2473\n",
      "Graph name: 39, number of nodes:6, bandwidth_ls:2, time_ls:0.0005, bandwidth_ga:2.0, time_ga:0.2293\n",
      "Graph name: 40, number of nodes:6, bandwidth_ls:2, time_ls:0.0006, bandwidth_ga:2.0, time_ga:0.1966\n",
      "Graph name: 41, number of nodes:6, bandwidth_ls:3, time_ls:0.0005, bandwidth_ga:3.0, time_ga:0.2678\n",
      "Graph name: 42, number of nodes:6, bandwidth_ls:2, time_ls:0.0005, bandwidth_ga:2.0, time_ga:0.1608\n",
      "Graph name: 43, number of nodes:6, bandwidth_ls:3, time_ls:0.0003, bandwidth_ga:3.0, time_ga:0.1695\n",
      "Graph name: 44, number of nodes:6, bandwidth_ls:4, time_ls:0.0008, bandwidth_ga:3.0, time_ga:0.2782\n",
      "Graph name: 45, number of nodes:6, bandwidth_ls:2, time_ls:0.0006, bandwidth_ga:2.0, time_ga:0.1864\n",
      "Graph name: 46, number of nodes:6, bandwidth_ls:3, time_ls:0.0005, bandwidth_ga:3.0, time_ga:0.2508\n",
      "Graph name: 47, number of nodes:6, bandwidth_ls:3, time_ls:0.0008, bandwidth_ga:3.0, time_ga:0.3381\n",
      "Graph name: 48, number of nodes:6, bandwidth_ls:5, time_ls:0.0004, bandwidth_ga:4.0, time_ga:0.3388\n",
      "Graph name: 49, number of nodes:6, bandwidth_ls:3, time_ls:0.0006, bandwidth_ga:3.0, time_ga:0.3187\n",
      "Graph name: 50, number of nodes:6, bandwidth_ls:4, time_ls:0.0005, bandwidth_ga:3.0, time_ga:0.315\n",
      "Graph name: 51, number of nodes:6, bandwidth_ls:4, time_ls:0.0006, bandwidth_ga:3.0, time_ga:0.3341\n",
      "Graph name: 52, number of nodes:6, bandwidth_ls:5, time_ls:0.0005, bandwidth_ga:4.0, time_ga:0.5379\n",
      "Graph name: 53, number of nodes:6, bandwidth_ls:4, time_ls:0.0006, bandwidth_ga:4.0, time_ga:0.3057\n",
      "Graph name: 54, number of nodes:6, bandwidth_ls:4, time_ls:0.0005, bandwidth_ga:3.0, time_ga:0.3354\n",
      "Graph name: 55, number of nodes:6, bandwidth_ls:4, time_ls:0.0004, bandwidth_ga:3.0, time_ga:0.3342\n",
      "Graph name: 56, number of nodes:6, bandwidth_ls:4, time_ls:0.0006, bandwidth_ga:4.0, time_ga:0.5014\n",
      "Graph name: 57, number of nodes:6, bandwidth_ls:4, time_ls:0.0008, bandwidth_ga:4.0, time_ga:0.4538\n",
      "Graph name: 58, number of nodes:6, bandwidth_ls:4, time_ls:0.0007, bandwidth_ga:3.0, time_ga:0.3164\n",
      "Graph name: 59, number of nodes:6, bandwidth_ls:4, time_ls:0.0006, bandwidth_ga:4.0, time_ga:0.5156\n",
      "Graph name: 60, number of nodes:6, bandwidth_ls:4, time_ls:0.0007, bandwidth_ga:4.0, time_ga:0.5031\n",
      "Graph name: 61, number of nodes:6, bandwidth_ls:4, time_ls:0.001, bandwidth_ga:4.0, time_ga:0.5318\n",
      "Graph name: 62, number of nodes:6, bandwidth_ls:4, time_ls:0.0007, bandwidth_ga:4.0, time_ga:0.46\n",
      "Graph name: 63, number of nodes:6, bandwidth_ls:5, time_ls:0.0005, bandwidth_ga:5.0, time_ga:0.4358\n",
      "Graph name: 64, number of nodes:6, bandwidth_ls:4, time_ls:0.0009, bandwidth_ga:4.0, time_ga:0.3529\n",
      "Graph name: 65, number of nodes:6, bandwidth_ls:5, time_ls:0.0007, bandwidth_ga:4.0, time_ga:0.4829\n",
      "Graph name: 66, number of nodes:6, bandwidth_ls:5, time_ls:0.0005, bandwidth_ga:5.0, time_ga:0.4249\n",
      "Graph name: 67, number of nodes:6, bandwidth_ls:4, time_ls:0.0007, bandwidth_ga:4.0, time_ga:0.4813\n",
      "Graph name: 68, number of nodes:6, bandwidth_ls:4, time_ls:0.0009, bandwidth_ga:4.0, time_ga:0.442\n",
      "Graph name: 69, number of nodes:6, bandwidth_ls:5, time_ls:0.0005, bandwidth_ga:5.0, time_ga:0.4119\n",
      "Graph name: 70, number of nodes:6, bandwidth_ls:5, time_ls:0.0005, bandwidth_ga:5.0, time_ga:0.4241\n",
      "Graph name: 71, number of nodes:7, bandwidth_ls:4, time_ls:0.0012, bandwidth_ga:3.0, time_ga:0.3574\n",
      "Graph name: 72, number of nodes:7, bandwidth_ls:5, time_ls:0.0011, bandwidth_ga:3.0, time_ga:0.378\n",
      "Graph name: 73, number of nodes:7, bandwidth_ls:3, time_ls:0.0008, bandwidth_ga:2.0, time_ga:0.1471\n",
      "Graph name: 74, number of nodes:7, bandwidth_ls:3, time_ls:0.0008, bandwidth_ga:2.0, time_ga:0.238\n",
      "Graph name: 75, number of nodes:7, bandwidth_ls:3, time_ls:0.0007, bandwidth_ga:3.0, time_ga:0.3095\n",
      "Graph name: 76, number of nodes:7, bandwidth_ls:4, time_ls:0.0006, bandwidth_ga:3.0, time_ga:0.3241\n",
      "Graph name: 77, number of nodes:7, bandwidth_ls:5, time_ls:0.001, bandwidth_ga:3.0, time_ga:0.3599\n",
      "Graph name: 78, number of nodes:7, bandwidth_ls:3, time_ls:0.0009, bandwidth_ga:3.0, time_ga:0.2139\n",
      "Graph name: 79, number of nodes:7, bandwidth_ls:3, time_ls:0.001, bandwidth_ga:3.0, time_ga:0.3329\n",
      "Graph name: 80, number of nodes:7, bandwidth_ls:4, time_ls:0.0008, bandwidth_ga:4.0, time_ga:0.5036\n",
      "Graph name: 81, number of nodes:7, bandwidth_ls:5, time_ls:0.0009, bandwidth_ga:5.0, time_ga:0.5177\n",
      "Graph name: 82, number of nodes:7, bandwidth_ls:4, time_ls:0.0011, bandwidth_ga:4.0, time_ga:0.4263\n",
      "Graph name: 83, number of nodes:7, bandwidth_ls:4, time_ls:0.0004, bandwidth_ga:3.0, time_ga:0.3214\n",
      "Graph name: 84, number of nodes:7, bandwidth_ls:4, time_ls:0.0014, bandwidth_ga:4.0, time_ga:0.3722\n",
      "Graph name: 85, number of nodes:7, bandwidth_ls:5, time_ls:0.0005, bandwidth_ga:5.0, time_ga:0.5005\n",
      "Graph name: 86, number of nodes:7, bandwidth_ls:4, time_ls:0.001, bandwidth_ga:4.0, time_ga:0.6709\n",
      "Graph name: 87, number of nodes:7, bandwidth_ls:4, time_ls:0.0014, bandwidth_ga:4.0, time_ga:0.5158\n",
      "Graph name: 88, number of nodes:7, bandwidth_ls:4, time_ls:0.001, bandwidth_ga:4.0, time_ga:0.4475\n",
      "Graph name: 89, number of nodes:7, bandwidth_ls:5, time_ls:0.0015, bandwidth_ga:4.0, time_ga:0.4883\n",
      "Graph name: 90, number of nodes:7, bandwidth_ls:4, time_ls:0.001, bandwidth_ga:4.0, time_ga:0.502\n",
      "Graph name: 91, number of nodes:7, bandwidth_ls:5, time_ls:0.0011, bandwidth_ga:4.0, time_ga:0.5691\n",
      "Graph name: 92, number of nodes:7, bandwidth_ls:6, time_ls:0.0006, bandwidth_ga:4.0, time_ga:0.5878\n",
      "Graph name: 93, number of nodes:7, bandwidth_ls:5, time_ls:0.0006, bandwidth_ga:4.0, time_ga:0.5836\n",
      "Graph name: 94, number of nodes:7, bandwidth_ls:5, time_ls:0.0013, bandwidth_ga:5.0, time_ga:0.6622\n",
      "Graph name: 95, number of nodes:7, bandwidth_ls:5, time_ls:0.0009, bandwidth_ga:5.0, time_ga:0.7083\n",
      "Graph name: 96, number of nodes:7, bandwidth_ls:5, time_ls:0.0011, bandwidth_ga:5.0, time_ga:0.6974\n",
      "Graph name: 97, number of nodes:7, bandwidth_ls:5, time_ls:0.001, bandwidth_ga:5.0, time_ga:0.7256\n",
      "Graph name: 98, number of nodes:7, bandwidth_ls:5, time_ls:0.0014, bandwidth_ga:5.0, time_ga:0.4396\n",
      "Graph name: 99, number of nodes:7, bandwidth_ls:6, time_ls:0.0006, bandwidth_ga:5.0, time_ga:0.6594\n",
      "Graph name: 100, number of nodes:7, bandwidth_ls:5, time_ls:0.0006, bandwidth_ga:5.0, time_ga:0.5918\n",
      "Graph name: 101, number of nodes:7, bandwidth_ls:6, time_ls:0.0006, bandwidth_ga:5.0, time_ga:0.7477\n",
      "Graph name: 102, number of nodes:7, bandwidth_ls:5, time_ls:0.0014, bandwidth_ga:5.0, time_ga:0.6444\n",
      "Graph name: 103, number of nodes:7, bandwidth_ls:6, time_ls:0.0006, bandwidth_ga:6.0, time_ga:0.5383\n",
      "Graph name: 104, number of nodes:7, bandwidth_ls:6, time_ls:0.0006, bandwidth_ga:6.0, time_ga:0.5379\n",
      "Graph name: 105, number of nodes:7, bandwidth_ls:5, time_ls:0.0009, bandwidth_ga:5.0, time_ga:0.7445\n",
      "Graph name: 106, number of nodes:8, bandwidth_ls:3, time_ls:0.0015, bandwidth_ga:3.0, time_ga:0.3462\n",
      "Graph name: 107, number of nodes:8, bandwidth_ls:3, time_ls:0.0011, bandwidth_ga:3.0, time_ga:0.3438\n",
      "Graph name: 108, number of nodes:8, bandwidth_ls:4, time_ls:0.0012, bandwidth_ga:4.0, time_ga:0.4522\n",
      "Graph name: 109, number of nodes:8, bandwidth_ls:4, time_ls:0.0017, bandwidth_ga:4.0, time_ga:0.7659\n",
      "Graph name: 110, number of nodes:8, bandwidth_ls:5, time_ls:0.0011, bandwidth_ga:3.0, time_ga:0.3059\n",
      "Graph name: 111, number of nodes:8, bandwidth_ls:3, time_ls:0.0007, bandwidth_ga:2.0, time_ga:0.2143\n",
      "Graph name: 112, number of nodes:8, bandwidth_ls:4, time_ls:0.0016, bandwidth_ga:4.0, time_ga:0.6282\n",
      "Graph name: 113, number of nodes:8, bandwidth_ls:4, time_ls:0.001, bandwidth_ga:4.0, time_ga:0.647\n",
      "Graph name: 114, number of nodes:8, bandwidth_ls:4, time_ls:0.0011, bandwidth_ga:3.0, time_ga:0.5057\n",
      "Graph name: 115, number of nodes:8, bandwidth_ls:4, time_ls:0.001, bandwidth_ga:4.0, time_ga:0.429\n",
      "Graph name: 116, number of nodes:8, bandwidth_ls:5, time_ls:0.0033, bandwidth_ga:5.0, time_ga:0.9827\n",
      "Graph name: 117, number of nodes:8, bandwidth_ls:5, time_ls:0.001, bandwidth_ga:4.0, time_ga:0.7588\n",
      "Graph name: 118, number of nodes:8, bandwidth_ls:4, time_ls:0.0017, bandwidth_ga:4.0, time_ga:0.6395\n",
      "Graph name: 119, number of nodes:8, bandwidth_ls:4, time_ls:0.0016, bandwidth_ga:4.0, time_ga:0.5218\n",
      "Graph name: 120, number of nodes:8, bandwidth_ls:6, time_ls:0.0012, bandwidth_ga:5.0, time_ga:0.7831\n",
      "Graph name: 121, number of nodes:8, bandwidth_ls:5, time_ls:0.0026, bandwidth_ga:5.0, time_ga:0.7997\n",
      "Graph name: 122, number of nodes:8, bandwidth_ls:5, time_ls:0.0014, bandwidth_ga:5.0, time_ga:0.7163\n",
      "Graph name: 123, number of nodes:8, bandwidth_ls:5, time_ls:0.0018, bandwidth_ga:5.0, time_ga:0.923\n",
      "Graph name: 124, number of nodes:8, bandwidth_ls:5, time_ls:0.0018, bandwidth_ga:4.0, time_ga:0.4384\n",
      "Graph name: 125, number of nodes:8, bandwidth_ls:5, time_ls:0.0019, bandwidth_ga:4.0, time_ga:0.5786\n",
      "Graph name: 126, number of nodes:8, bandwidth_ls:6, time_ls:0.0016, bandwidth_ga:6.0, time_ga:0.6882\n",
      "Graph name: 127, number of nodes:8, bandwidth_ls:5, time_ls:0.0017, bandwidth_ga:5.0, time_ga:0.8618\n",
      "Graph name: 128, number of nodes:8, bandwidth_ls:6, time_ls:0.0016, bandwidth_ga:5.0, time_ga:1.0899\n",
      "Graph name: 129, number of nodes:8, bandwidth_ls:5, time_ls:0.0017, bandwidth_ga:5.0, time_ga:0.8875\n",
      "Graph name: 130, number of nodes:8, bandwidth_ls:5, time_ls:0.0035, bandwidth_ga:5.0, time_ga:0.8516\n",
      "Graph name: 131, number of nodes:8, bandwidth_ls:5, time_ls:0.0017, bandwidth_ga:5.0, time_ga:0.9964\n",
      "Graph name: 132, number of nodes:8, bandwidth_ls:6, time_ls:0.0019, bandwidth_ga:5.0, time_ga:1.0156\n",
      "Graph name: 133, number of nodes:8, bandwidth_ls:6, time_ls:0.0017, bandwidth_ga:6.0, time_ga:0.8438\n",
      "Graph name: 134, number of nodes:8, bandwidth_ls:5, time_ls:0.0013, bandwidth_ga:5.0, time_ga:0.7526\n",
      "Graph name: 135, number of nodes:8, bandwidth_ls:6, time_ls:0.0015, bandwidth_ga:6.0, time_ga:1.0268\n",
      "Graph name: 136, number of nodes:8, bandwidth_ls:7, time_ls:0.001, bandwidth_ga:7.0, time_ga:0.791\n",
      "Graph name: 137, number of nodes:8, bandwidth_ls:6, time_ls:0.002, bandwidth_ga:6.0, time_ga:1.0355\n",
      "Graph name: 138, number of nodes:8, bandwidth_ls:6, time_ls:0.0018, bandwidth_ga:6.0, time_ga:1.0998\n",
      "Graph name: 139, number of nodes:8, bandwidth_ls:6, time_ls:0.0015, bandwidth_ga:6.0, time_ga:1.0486\n",
      "Graph name: 140, number of nodes:8, bandwidth_ls:6, time_ls:0.0019, bandwidth_ga:6.0, time_ga:1.164\n",
      "Graph name: 141, number of nodes:9, bandwidth_ls:5, time_ls:0.0029, bandwidth_ga:5.0, time_ga:1.0402\n",
      "Graph name: 142, number of nodes:9, bandwidth_ls:4, time_ls:0.0023, bandwidth_ga:4.0, time_ga:0.6155\n",
      "Graph name: 143, number of nodes:9, bandwidth_ls:4, time_ls:0.002, bandwidth_ga:3.0, time_ga:0.4454\n",
      "Graph name: 144, number of nodes:9, bandwidth_ls:6, time_ls:0.0015, bandwidth_ga:4.0, time_ga:0.6338\n",
      "Graph name: 145, number of nodes:9, bandwidth_ls:5, time_ls:0.0022, bandwidth_ga:4.0, time_ga:0.598\n",
      "Graph name: 146, number of nodes:9, bandwidth_ls:5, time_ls:0.0012, bandwidth_ga:4.0, time_ga:0.5726\n",
      "Graph name: 147, number of nodes:9, bandwidth_ls:4, time_ls:0.0014, bandwidth_ga:4.0, time_ga:0.6204\n",
      "Graph name: 148, number of nodes:9, bandwidth_ls:5, time_ls:0.0022, bandwidth_ga:5.0, time_ga:0.8814\n",
      "Graph name: 149, number of nodes:9, bandwidth_ls:6, time_ls:0.0015, bandwidth_ga:5.0, time_ga:1.0955\n",
      "Graph name: 150, number of nodes:9, bandwidth_ls:5, time_ls:0.0056, bandwidth_ga:4.0, time_ga:0.6785\n",
      "Graph name: 151, number of nodes:9, bandwidth_ls:5, time_ls:0.0021, bandwidth_ga:4.0, time_ga:0.6574\n",
      "Graph name: 152, number of nodes:9, bandwidth_ls:5, time_ls:0.0015, bandwidth_ga:5.0, time_ga:1.1124\n",
      "Graph name: 153, number of nodes:9, bandwidth_ls:6, time_ls:0.0024, bandwidth_ga:5.0, time_ga:1.0301\n",
      "Graph name: 154, number of nodes:9, bandwidth_ls:6, time_ls:0.0013, bandwidth_ga:5.0, time_ga:1.0371\n",
      "Graph name: 155, number of nodes:9, bandwidth_ls:5, time_ls:0.0028, bandwidth_ga:5.0, time_ga:0.979\n",
      "Graph name: 156, number of nodes:9, bandwidth_ls:5, time_ls:0.0045, bandwidth_ga:5.0, time_ga:1.0829\n",
      "Graph name: 157, number of nodes:9, bandwidth_ls:6, time_ls:0.0027, bandwidth_ga:6.0, time_ga:1.2071\n",
      "Graph name: 158, number of nodes:9, bandwidth_ls:6, time_ls:0.0027, bandwidth_ga:6.0, time_ga:1.4335\n",
      "Graph name: 159, number of nodes:9, bandwidth_ls:6, time_ls:0.0021, bandwidth_ga:6.0, time_ga:1.3311\n",
      "Graph name: 160, number of nodes:9, bandwidth_ls:6, time_ls:0.0029, bandwidth_ga:5.0, time_ga:1.1709\n",
      "Graph name: 161, number of nodes:9, bandwidth_ls:6, time_ls:0.0023, bandwidth_ga:6.0, time_ga:1.0481\n",
      "Graph name: 162, number of nodes:9, bandwidth_ls:8, time_ls:0.0012, bandwidth_ga:6.0, time_ga:1.2978\n",
      "Graph name: 163, number of nodes:9, bandwidth_ls:7, time_ls:0.0028, bandwidth_ga:7.0, time_ga:1.1681\n",
      "Graph name: 164, number of nodes:9, bandwidth_ls:6, time_ls:0.0023, bandwidth_ga:6.0, time_ga:1.1289\n",
      "Graph name: 165, number of nodes:9, bandwidth_ls:8, time_ls:0.0012, bandwidth_ga:7.0, time_ga:1.3857\n",
      "Graph name: 166, number of nodes:9, bandwidth_ls:7, time_ls:0.0026, bandwidth_ga:7.0, time_ga:1.8938\n",
      "Graph name: 167, number of nodes:9, bandwidth_ls:7, time_ls:0.0021, bandwidth_ga:7.0, time_ga:1.5855\n",
      "Graph name: 168, number of nodes:9, bandwidth_ls:8, time_ls:0.0012, bandwidth_ga:7.0, time_ga:1.5685\n",
      "Graph name: 169, number of nodes:9, bandwidth_ls:8, time_ls:0.0012, bandwidth_ga:7.0, time_ga:0.8817\n",
      "Graph name: 170, number of nodes:9, bandwidth_ls:7, time_ls:0.0026, bandwidth_ga:7.0, time_ga:1.2121\n",
      "Graph name: 171, number of nodes:9, bandwidth_ls:8, time_ls:0.0012, bandwidth_ga:8.0, time_ga:1.0749\n",
      "Graph name: 172, number of nodes:9, bandwidth_ls:7, time_ls:0.0021, bandwidth_ga:7.0, time_ga:1.6388\n",
      "Graph name: 173, number of nodes:9, bandwidth_ls:8, time_ls:0.0012, bandwidth_ga:8.0, time_ga:1.084\n",
      "Graph name: 174, number of nodes:9, bandwidth_ls:7, time_ls:0.0064, bandwidth_ga:7.0, time_ga:1.3335\n",
      "Graph name: 175, number of nodes:9, bandwidth_ls:8, time_ls:0.0012, bandwidth_ga:8.0, time_ga:1.0672\n",
      "Graph name: 176, number of nodes:10, bandwidth_ls:6, time_ls:0.0043, bandwidth_ga:5.0, time_ga:1.2938\n",
      "Graph name: 177, number of nodes:10, bandwidth_ls:5, time_ls:0.002, bandwidth_ga:4.0, time_ga:0.8224\n",
      "Graph name: 178, number of nodes:10, bandwidth_ls:5, time_ls:0.0023, bandwidth_ga:4.0, time_ga:0.7455\n",
      "Graph name: 179, number of nodes:10, bandwidth_ls:3, time_ls:0.0017, bandwidth_ga:3.0, time_ga:0.3627\n",
      "Graph name: 180, number of nodes:10, bandwidth_ls:4, time_ls:0.0025, bandwidth_ga:4.0, time_ga:0.8628\n",
      "Graph name: 181, number of nodes:10, bandwidth_ls:6, time_ls:0.0039, bandwidth_ga:5.0, time_ga:1.3\n",
      "Graph name: 182, number of nodes:10, bandwidth_ls:5, time_ls:0.0022, bandwidth_ga:5.0, time_ga:1.237\n",
      "Graph name: 183, number of nodes:10, bandwidth_ls:7, time_ls:0.0019, bandwidth_ga:5.0, time_ga:1.1657\n",
      "Graph name: 184, number of nodes:10, bandwidth_ls:6, time_ls:0.0019, bandwidth_ga:5.0, time_ga:0.9338\n",
      "Graph name: 185, number of nodes:10, bandwidth_ls:7, time_ls:0.0025, bandwidth_ga:6.0, time_ga:1.2705\n",
      "Graph name: 186, number of nodes:10, bandwidth_ls:6, time_ls:0.0029, bandwidth_ga:6.0, time_ga:1.7049\n",
      "Graph name: 187, number of nodes:10, bandwidth_ls:6, time_ls:0.0022, bandwidth_ga:5.0, time_ga:0.9621\n",
      "Graph name: 188, number of nodes:10, bandwidth_ls:6, time_ls:0.0033, bandwidth_ga:6.0, time_ga:1.4569\n",
      "Graph name: 189, number of nodes:10, bandwidth_ls:6, time_ls:0.0032, bandwidth_ga:6.0, time_ga:1.0986\n",
      "Graph name: 190, number of nodes:10, bandwidth_ls:5, time_ls:0.0042, bandwidth_ga:5.0, time_ga:1.274\n",
      "Graph name: 191, number of nodes:10, bandwidth_ls:6, time_ls:0.0042, bandwidth_ga:6.0, time_ga:1.4791\n",
      "Graph name: 192, number of nodes:10, bandwidth_ls:7, time_ls:0.0036, bandwidth_ga:6.0, time_ga:1.6939\n",
      "Graph name: 193, number of nodes:10, bandwidth_ls:6, time_ls:0.0043, bandwidth_ga:6.0, time_ga:1.5979\n",
      "Graph name: 194, number of nodes:10, bandwidth_ls:6, time_ls:0.0035, bandwidth_ga:6.0, time_ga:1.4126\n",
      "Graph name: 195, number of nodes:10, bandwidth_ls:6, time_ls:0.0042, bandwidth_ga:6.0, time_ga:1.7659\n",
      "Graph name: 196, number of nodes:10, bandwidth_ls:7, time_ls:0.0028, bandwidth_ga:7.0, time_ga:1.7512\n",
      "Graph name: 197, number of nodes:10, bandwidth_ls:7, time_ls:0.004, bandwidth_ga:7.0, time_ga:2.0046\n",
      "Graph name: 198, number of nodes:10, bandwidth_ls:8, time_ls:0.0017, bandwidth_ga:7.0, time_ga:1.8386\n",
      "Graph name: 199, number of nodes:10, bandwidth_ls:8, time_ls:0.003, bandwidth_ga:7.0, time_ga:2.0641\n",
      "Graph name: 200, number of nodes:10, bandwidth_ls:7, time_ls:0.0057, bandwidth_ga:7.0, time_ga:1.8215\n",
      "Graph name: 201, number of nodes:10, bandwidth_ls:9, time_ls:0.0016, bandwidth_ga:8.0, time_ga:2.1589\n",
      "Graph name: 202, number of nodes:10, bandwidth_ls:8, time_ls:0.0026, bandwidth_ga:8.0, time_ga:2.1209\n",
      "Graph name: 203, number of nodes:10, bandwidth_ls:9, time_ls:0.002, bandwidth_ga:8.0, time_ga:1.7517\n",
      "Graph name: 204, number of nodes:10, bandwidth_ls:8, time_ls:0.0019, bandwidth_ga:7.0, time_ga:2.1409\n",
      "Graph name: 205, number of nodes:10, bandwidth_ls:7, time_ls:0.0038, bandwidth_ga:7.0, time_ga:2.1191\n",
      "Graph name: 206, number of nodes:10, bandwidth_ls:9, time_ls:0.0017, bandwidth_ga:8.0, time_ga:2.1069\n",
      "Graph name: 207, number of nodes:10, bandwidth_ls:8, time_ls:0.0028, bandwidth_ga:8.0, time_ga:2.1587\n",
      "Graph name: 208, number of nodes:10, bandwidth_ls:8, time_ls:0.0027, bandwidth_ga:8.0, time_ga:2.1631\n",
      "Graph name: 209, number of nodes:10, bandwidth_ls:8, time_ls:0.0035, bandwidth_ga:8.0, time_ga:1.8322\n",
      "Graph name: 210, number of nodes:10, bandwidth_ls:9, time_ls:0.0017, bandwidth_ga:9.0, time_ga:1.3908\n"
     ]
    }
   ],
   "source": [
    "for random_graph in random_graphs:\n",
    "    initial_labelling = [label for label in range(1, random_graph.number_of_nodes() + 1)]\n",
    "    \n",
    "    start_time = time.time()\n",
    "    result_ls = local_search(random_graph, random.sample(initial_labelling, len(initial_labelling)))\n",
    "    end_time = time.time()\n",
    "    elapsed_time_ls = end_time - start_time\n",
    "\n",
    "    start_time = time.time()\n",
    "    result_ga = genetic_algorithm(random_graph, 30, 20, 5, 0.002, 10)\n",
    "    end_time = time.time()\n",
    "    elapsed_time_ga = end_time - start_time\n",
    "    \n",
    "    print(f\"Graph name: {random_graph.graph['name']}, number of nodes:{random_graph.number_of_nodes()}, bandwidth_ls:{calculate_graph_bandwidth(random_graph, result_ls)}, time_ls:{round(elapsed_time_ls, 4)}, bandwidth_ga:{result_ga.fitness}, time_ga:{round(elapsed_time_ga, 4)}\")"
   ]
  },
  {
   "cell_type": "code",
   "execution_count": 50,
   "id": "2d49019d-e655-43a7-be54-b25696209b36",
   "metadata": {},
   "outputs": [],
   "source": [
    "import scipy as sp\n",
    "import scipy.io"
   ]
  },
  {
   "cell_type": "code",
   "execution_count": null,
   "id": "405509b4-acc5-485c-8096-4a44cf3a1377",
   "metadata": {},
   "outputs": [],
   "source": [
    "G59 = nx.from_scipy_sparse_array(scipy.io.mmread(\"graphs/dwt___59.mtx\"))\n",
    "G66 = nx.from_scipy_sparse_array(scipy.io.mmread(\"graphs/dwt___66.mtx\"))\n",
    "G72 = nx.from_scipy_sparse_array(scipy.io.mmread(\"graphs/dwt___72.mtx\"))\n",
    "\n",
    "GA = nx.from_scipy_sparse_array(scipy.io.mmread(\"graphs/arc130.mtx\"))\n",
    "GB = nx.from_scipy_sparse_array(scipy.io.mmread(\"graphs/bcspwr01.mtx\"))\n",
    "GX = nx.from_scipy_sparse_array(scipy.io.mmread(\"graphs/ash292.mtx\"))\n",
    "graphs = [G59, G66, G72]"
   ]
  }
 ],
 "metadata": {
  "kernelspec": {
   "display_name": "Python 3 (ipykernel)",
   "language": "python",
   "name": "python3"
  },
  "language_info": {
   "codemirror_mode": {
    "name": "ipython",
    "version": 3
   },
   "file_extension": ".py",
   "mimetype": "text/x-python",
   "name": "python",
   "nbconvert_exporter": "python",
   "pygments_lexer": "ipython3",
   "version": "3.11.5"
  }
 },
 "nbformat": 4,
 "nbformat_minor": 5
}
